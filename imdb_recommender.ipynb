{
 "cells": [
  {
   "attachments": {},
   "cell_type": "markdown",
   "metadata": {},
   "source": [
    "اول از همه لایبرری های مورد نیاز رو ایمپورت کنیم به پروژه"
   ]
  },
  {
   "cell_type": "code",
   "execution_count": 48,
   "metadata": {},
   "outputs": [],
   "source": [
    "import pandas as pd\n",
    "import requests\n",
    "from bs4 import BeautifulSoup as bs"
   ]
  },
  {
   "attachments": {},
   "cell_type": "markdown",
   "metadata": {},
   "source": [
    "لیست ژانر ها رو داریم و در نظر می گیریم مثلا هر ژانری ماکسیمم 1000 تا صفحه داره و بنابراین به ازای هر ژانر از صفحه 0 تا 1000 توی دو تا حلقه تو در تو ریکوئست میزنیم و دیتای اون ژانر رو می گیریم.\n",
    "\n",
    "حواستون باشه که اجرای تیکه کد پایین به اضای 1000 صفحه از هر ژانر کلی زمان احتیاج داره.\n",
    "\n",
    "به ازای هر ریکوئستی که زده میشه، لیست فیلم ها تو قالب HTML از توی ریکوئست استخراج میشه و و به یه لیست فلت که شامل همه فیلم ها تو همه ژانر ها هست اضافه میشه."
   ]
  },
  {
   "cell_type": "code",
   "execution_count": null,
   "metadata": {},
   "outputs": [],
   "source": [
    "genres = [\"action\",\"adventure\",\"animation\",\"biography\",\"comedy\",\"crime\",\"drama\",\"family\",\"fantasy\",\n",
    "          \"film_noir\",\"history\",\"horror\",\"music\",\"musical\",\"mystery\",\"romance\",\"sci_fi\",\"sport\",\n",
    "          \"thriller\",\"war\",\"western\"]\n",
    "\n",
    "movies_div_list = []\n",
    "\n",
    "for genre in genres:\n",
    "    i=0\n",
    "    while(True):\n",
    "        req = requests.get('https://www.imdb.com/search/title/?genres='+str(genre)+'&start='+str((i*50)+1))\n",
    "        if(req.status_code == 200 and i<1000):\n",
    "            soup = bs(req.content)\n",
    "            temp_movies_list = soup.find_all('div', attrs={'class':'lister-item mode-advanced'})\n",
    "            for movie in temp_movies_list:\n",
    "                movies_div_list.append(movie)\n",
    "        else:\n",
    "            break\n",
    "        i+=1\n"
   ]
  },
  {
   "attachments": {},
   "cell_type": "markdown",
   "metadata": {},
   "source": [
    "تو تیکه کد پایین می خواییم لیست رو پیمایش کنیم و به ازای هر آیتم که شامل اطلاعات فیلم در قالب HTML هست، اطلاعات فیلم رو استخراج کنیم و در قالب یک لیست تو در تو در بیاریم که بعدش بتونیم باهاش یه جدول درست کنیم و تو فایل CSV ذخیره کنیم."
   ]
  },
  {
   "cell_type": "code",
   "execution_count": null,
   "metadata": {},
   "outputs": [],
   "source": [
    "list_of_movies_details = []\n",
    "for movie_html in movies_div_list:\n",
    "    list_of_fields = []\n",
    "    # for item's title\n",
    "    item_title = movie_html.select('h3.lister-item-header a')[0].text\n",
    "    list_of_fields.append(item_title)\n",
    "\n",
    "    #for item's year\n",
    "    item_year = movie_html.select('span.lister-item-year')[0].text\n",
    "    list_of_fields.append(item_year)\n",
    "\n",
    "    #for item's certificate\n",
    "    item_certificate = ''\n",
    "    if(len(movie_html.select('span.certificate'))>0):\n",
    "        item_certificate = movie_html.select('span.certificate')[0].text\n",
    "    list_of_fields.append(item_certificate)\n",
    "\n",
    "    #for item's length\n",
    "    item_length = 0\n",
    "    if(len(movie_html.select('span.runtime'))>0):\n",
    "        item_length = movie_html.select('span.runtime')[0].text\n",
    "    list_of_fields.append(item_length)\n",
    "\n",
    "    #for item's genres\n",
    "    item_genres = movie_html.select('span.genre')[0].text\n",
    "    list_of_fields.append(item_genres)\n",
    "\n",
    "    #for item's score\n",
    "    item_score = ''\n",
    "    if(len(movie_html.select('div.inline-block strong'))>0):\n",
    "        item_score = movie_html.select('div.inline-block strong')[0].text\n",
    "    list_of_fields.append(item_score)\n",
    "\n",
    "    #for item's metascore\n",
    "    item_metascore = ''\n",
    "    if(len(movie_html.select('span.metascore'))>0):\n",
    "        item_metascore = movie_html.select('span.metascore')[0].text\n",
    "    list_of_fields.append(item_metascore)\n",
    "\n",
    "    #for item's summary\n",
    "    item_summary = movie_html.select('p.text-muted')[1].text\n",
    "    list_of_fields.append(item_summary)\n",
    "\n",
    "    #for item's director and stars\n",
    "    director_and_stars_html = movie_html.select('div.lister-item-content p')[2]\n",
    "    item_stars_list = [a.text for a in director_and_stars_html.select('a')]\n",
    "    item_director =''\n",
    "    if(len(director_and_stars_html.select('span.ghost'))>0):\n",
    "        item_director = item_stars_list.pop(0)\n",
    "    list_of_fields.append(item_director)\n",
    "    list_of_fields.append(item_stars_list)\n",
    "        \n",
    "    #for item's votes\n",
    "    item_votes = 0\n",
    "    if(len(movie_html.select('p.sort-num_votes-visible span'))>1):\n",
    "        item_votes = movie_html.select('p.sort-num_votes-visible span')[1]['data-value']\n",
    "    list_of_fields.append(item_votes)\n",
    "\n",
    "    list_of_movies_details.append(list_of_fields)\n"
   ]
  },
  {
   "attachments": {},
   "cell_type": "markdown",
   "metadata": {},
   "source": [
    "تو تیکه کد پایین باید جدول به دست اومده از اطلاعات فیلم ها رو ذخیره می کنیم توی یه فایل سی اس وی"
   ]
  },
  {
   "cell_type": "code",
   "execution_count": null,
   "metadata": {},
   "outputs": [],
   "source": [
    "df = pd.DataFrame(list_of_movies_details, columns=['title', 'year', 'certificate', 'length','genres', 'score', 'metascore','summary',\n",
    "                                                   'director', 'stars_list', 'votes'])\n",
    "df.to_csv('imdb_movies.csv',index=False,sep=';')"
   ]
  }
 ],
 "metadata": {
  "kernelspec": {
   "display_name": "Python 3",
   "language": "python",
   "name": "python3"
  },
  "language_info": {
   "codemirror_mode": {
    "name": "ipython",
    "version": 3
   },
   "file_extension": ".py",
   "mimetype": "text/x-python",
   "name": "python",
   "nbconvert_exporter": "python",
   "pygments_lexer": "ipython3",
   "version": "3.10.10"
  },
  "orig_nbformat": 4
 },
 "nbformat": 4,
 "nbformat_minor": 2
}
